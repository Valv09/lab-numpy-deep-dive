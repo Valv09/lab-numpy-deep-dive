{
 "cells": [
  {
   "cell_type": "code",
   "execution_count": 1,
   "id": "aa357a96",
   "metadata": {},
   "outputs": [],
   "source": [
    "import numpy as np"
   ]
  },
  {
   "cell_type": "code",
   "execution_count": 2,
   "id": "31b4ed4a",
   "metadata": {},
   "outputs": [
    {
     "data": {
      "text/plain": [
       "'1.21.5'"
      ]
     },
     "execution_count": 2,
     "metadata": {},
     "output_type": "execute_result"
    }
   ],
   "source": [
    "np.__version__"
   ]
  },
  {
   "cell_type": "code",
   "execution_count": 3,
   "id": "4cc56093",
   "metadata": {},
   "outputs": [
    {
     "name": "stdout",
     "output_type": "stream",
     "text": [
      "[[[0.70852189 0.77683214 0.5418494  0.59322374 0.54704927]\n",
      "  [0.09497167 0.25213626 0.17141824 0.22696471 0.48480225]\n",
      "  [0.55463282 0.35753437 0.99910342 0.29764084 0.73199311]]\n",
      "\n",
      " [[0.29513432 0.98643736 0.38749134 0.10460269 0.19720489]\n",
      "  [0.12135787 0.14967599 0.46423354 0.34949584 0.59674501]\n",
      "  [0.50040947 0.41464989 0.07673999 0.59297652 0.35909008]]]\n"
     ]
    }
   ],
   "source": [
    "#3. Generate a 2x3x5 3-dimensional array with random values. Assign the array to variable \"a\"\n",
    "# Challenge: there are at least three easy ways that use numpy to generate random arrays. How many ways can you find?\n",
    "\n",
    "a = np.random.random((2, 3, 5))\n",
    "print(a)"
   ]
  },
  {
   "cell_type": "code",
   "execution_count": 4,
   "id": "4a1fb770",
   "metadata": {},
   "outputs": [
    {
     "name": "stdout",
     "output_type": "stream",
     "text": [
      "[[[1. 1. 1.]\n",
      "  [1. 1. 1.]]\n",
      "\n",
      " [[1. 1. 1.]\n",
      "  [1. 1. 1.]]\n",
      "\n",
      " [[1. 1. 1.]\n",
      "  [1. 1. 1.]]\n",
      "\n",
      " [[1. 1. 1.]\n",
      "  [1. 1. 1.]]\n",
      "\n",
      " [[1. 1. 1.]\n",
      "  [1. 1. 1.]]]\n"
     ]
    }
   ],
   "source": [
    "#5. Create a 5x2x3 3-dimensional array with all values equaling 1.\n",
    "#Assign the array to variable \"b\"\n",
    "\n",
    "b = np.ones((5, 2, 3))\n",
    "print(b)"
   ]
  },
  {
   "cell_type": "code",
   "execution_count": 5,
   "id": "6d63a62d",
   "metadata": {},
   "outputs": [
    {
     "name": "stdout",
     "output_type": "stream",
     "text": [
      "30\n",
      "30\n"
     ]
    }
   ],
   "source": [
    "#7. Do a and b have the same size? How do you prove that in Python code?\n",
    "# si tienen el mismo tamaño\n",
    "\n",
    "print(a.size)\n",
    "print(b.size)"
   ]
  },
  {
   "cell_type": "code",
   "execution_count": 6,
   "id": "4b08b82b",
   "metadata": {},
   "outputs": [],
   "source": [
    "#8. Are you able to add a and b? Why or why not?\n",
    "# no se pueden sumar porque no tienen el mismo arreglo"
   ]
  },
  {
   "cell_type": "code",
   "execution_count": 7,
   "id": "6ae350b8",
   "metadata": {},
   "outputs": [
    {
     "name": "stdout",
     "output_type": "stream",
     "text": [
      "[[[1. 1. 1. 1. 1.]\n",
      "  [1. 1. 1. 1. 1.]\n",
      "  [1. 1. 1. 1. 1.]]\n",
      "\n",
      " [[1. 1. 1. 1. 1.]\n",
      "  [1. 1. 1. 1. 1.]\n",
      "  [1. 1. 1. 1. 1.]]]\n"
     ]
    }
   ],
   "source": [
    "#9. Transpose b so that it has the same structure of a (i.e. become a 2x3x5 array). Assign the transposed array to varialbe \"c\".\n",
    "\n",
    "c = b.reshape(2, 3, 5)\n",
    "print(c)"
   ]
  },
  {
   "cell_type": "code",
   "execution_count": 8,
   "id": "baf85cac",
   "metadata": {},
   "outputs": [],
   "source": [
    "#10. Try to add a and c. Now it should work. Assign the sum to varialbe \"d\". But why does it work now?\n",
    "\n",
    "d = a + c"
   ]
  },
  {
   "cell_type": "code",
   "execution_count": 9,
   "id": "4a3e710c",
   "metadata": {},
   "outputs": [
    {
     "name": "stdout",
     "output_type": "stream",
     "text": [
      "[[[0.70852189 0.77683214 0.5418494  0.59322374 0.54704927]\n",
      "  [0.09497167 0.25213626 0.17141824 0.22696471 0.48480225]\n",
      "  [0.55463282 0.35753437 0.99910342 0.29764084 0.73199311]]\n",
      "\n",
      " [[0.29513432 0.98643736 0.38749134 0.10460269 0.19720489]\n",
      "  [0.12135787 0.14967599 0.46423354 0.34949584 0.59674501]\n",
      "  [0.50040947 0.41464989 0.07673999 0.59297652 0.35909008]]]\n",
      "[[[1.70852189 1.77683214 1.5418494  1.59322374 1.54704927]\n",
      "  [1.09497167 1.25213626 1.17141824 1.22696471 1.48480225]\n",
      "  [1.55463282 1.35753437 1.99910342 1.29764084 1.73199311]]\n",
      "\n",
      " [[1.29513432 1.98643736 1.38749134 1.10460269 1.19720489]\n",
      "  [1.12135787 1.14967599 1.46423354 1.34949584 1.59674501]\n",
      "  [1.50040947 1.41464989 1.07673999 1.59297652 1.35909008]]]\n"
     ]
    }
   ],
   "source": [
    "#11. Print a and d. Notice the difference and relation of the two array in terms of the values? Explain.\n",
    "print(a)\n",
    "print(d)"
   ]
  },
  {
   "cell_type": "code",
   "execution_count": 10,
   "id": "72154b0b",
   "metadata": {},
   "outputs": [],
   "source": [
    "#12. Multiply a and c. Assign the result to e.\n",
    "e = a * c"
   ]
  },
  {
   "cell_type": "code",
   "execution_count": 11,
   "id": "0730bee4",
   "metadata": {},
   "outputs": [
    {
     "name": "stdout",
     "output_type": "stream",
     "text": [
      "[[[0.70852189 0.77683214 0.5418494  0.59322374 0.54704927]\n",
      "  [0.09497167 0.25213626 0.17141824 0.22696471 0.48480225]\n",
      "  [0.55463282 0.35753437 0.99910342 0.29764084 0.73199311]]\n",
      "\n",
      " [[0.29513432 0.98643736 0.38749134 0.10460269 0.19720489]\n",
      "  [0.12135787 0.14967599 0.46423354 0.34949584 0.59674501]\n",
      "  [0.50040947 0.41464989 0.07673999 0.59297652 0.35909008]]]\n",
      "[[[0.70852189 0.77683214 0.5418494  0.59322374 0.54704927]\n",
      "  [0.09497167 0.25213626 0.17141824 0.22696471 0.48480225]\n",
      "  [0.55463282 0.35753437 0.99910342 0.29764084 0.73199311]]\n",
      "\n",
      " [[0.29513432 0.98643736 0.38749134 0.10460269 0.19720489]\n",
      "  [0.12135787 0.14967599 0.46423354 0.34949584 0.59674501]\n",
      "  [0.50040947 0.41464989 0.07673999 0.59297652 0.35909008]]]\n"
     ]
    }
   ],
   "source": [
    "#13. Does e equal to a? Why or why not?\n",
    "#son iguales, porque esta multiplicado por 1.\n",
    "print(e)\n",
    "print(a)"
   ]
  },
  {
   "cell_type": "code",
   "execution_count": 12,
   "id": "5f6d76dd",
   "metadata": {},
   "outputs": [
    {
     "name": "stdout",
     "output_type": "stream",
     "text": [
      "el numero maximo es 1.9991034189168628\n",
      "el numero minimo es 1.0767399869821412\n",
      "la media es 1.4311639645990653\n"
     ]
    }
   ],
   "source": [
    "#14. Identify the max, min, and mean values in d. Assign those values to variables \"d_max\", \"d_min\", and \"d_mean\"\n",
    "d_max = d.max()\n",
    "d_min = d.min()\n",
    "d_mean = d.mean()\n",
    "print('el numero maximo es', d_max)\n",
    "print('el numero minimo es', d_min)\n",
    "print('la media es', d_mean)"
   ]
  },
  {
   "cell_type": "code",
   "execution_count": 13,
   "id": "a3c74ddc",
   "metadata": {},
   "outputs": [
    {
     "data": {
      "text/plain": [
       "array([[[0.70852189, 0.77683214, 0.5418494 , 0.59322374, 0.54704927],\n",
       "        [0.09497167, 0.25213626, 0.17141824, 0.22696471, 0.48480225],\n",
       "        [0.55463282, 0.35753437, 0.99910342, 0.29764084, 0.73199311]],\n",
       "\n",
       "       [[0.29513432, 0.98643736, 0.38749134, 0.10460269, 0.19720489],\n",
       "        [0.12135787, 0.14967599, 0.46423354, 0.34949584, 0.59674501],\n",
       "        [0.50040947, 0.41464989, 0.07673999, 0.59297652, 0.35909008]]])"
      ]
     },
     "execution_count": 13,
     "metadata": {},
     "output_type": "execute_result"
    }
   ],
   "source": [
    "#15. Now we want to label the values in d. First create an empty array \"f\" with the same shape (i.e. 2x3x5) as d using `np.empty`.\n",
    "\n",
    "f = np.empty((2, 3, 5))\n",
    "f"
   ]
  },
  {
   "cell_type": "code",
   "execution_count": 17,
   "id": "7a4253e6",
   "metadata": {
    "scrolled": true
   },
   "outputs": [
    {
     "data": {
      "text/plain": [
       "array([[[ 75,  75,  75,  75,  75],\n",
       "        [ 25,  25,  25,  25,  75],\n",
       "        [ 75,  25, 100,  25,  75]],\n",
       "\n",
       "       [[ 25,  75,  25,  25,  25],\n",
       "        [ 25,  25,  75,  25,  75],\n",
       "        [ 75,  25,   0,  75,  25]]])"
      ]
     },
     "execution_count": 17,
     "metadata": {},
     "output_type": "execute_result"
    }
   ],
   "source": [
    "#16. Populate the values in f. For each value in d, if it's larger than d_min but smaller than d_mean, assign 25 to the corresponding value in f.\n",
    "#If a value in d is larger than d_mean but smaller than d_max, assign 75 to the corresponding value in f.\n",
    "#If a value equals to d_mean, assign 50 to the corresponding value in f.\n",
    "#Assign 0 to the corresponding value(s) in f for d_min in d.\n",
    "#Assign 100 to the corresponding value(s) in f for d_max in d.\n",
    "#In the end, f should have only the following values: 0, 25, 50, 75, and 100.\n",
    "#Note: you don't have to use Numpy in this question\n",
    "\n",
    "f = [[[25 if d_min<item<d_mean else 75 if d_mean<item< d_max else 0 if item == d_min else 100 for item in in_list] for in_list in out_list] for out_list in d]\n",
    "f = np.array(f1)\n",
    "f\n",
    "#value > d_min < d_mean:\n",
    "    #value > d_mean < d_max, print (75)\n",
    "    #value == d_mean, print (50)\n",
    "    #print (0)\n",
    "    #print (100)"
   ]
  },
  {
   "cell_type": "code",
   "execution_count": null,
   "id": "1bb0dc77",
   "metadata": {},
   "outputs": [],
   "source": []
  }
 ],
 "metadata": {
  "kernelspec": {
   "display_name": "Python 3 (ipykernel)",
   "language": "python",
   "name": "python3"
  },
  "language_info": {
   "codemirror_mode": {
    "name": "ipython",
    "version": 3
   },
   "file_extension": ".py",
   "mimetype": "text/x-python",
   "name": "python",
   "nbconvert_exporter": "python",
   "pygments_lexer": "ipython3",
   "version": "3.9.12"
  }
 },
 "nbformat": 4,
 "nbformat_minor": 5
}
